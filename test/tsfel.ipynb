{
 "cells": [
  {
   "cell_type": "code",
   "execution_count": 1,
   "metadata": {},
   "outputs": [
    {
     "name": "stdout",
     "output_type": "stream",
     "text": [
      "[-0.03561401  0.00787354  0.04568481 ...  0.00485229  0.00469971\n",
      "  0.0005188 ]\n"
     ]
    }
   ],
   "source": [
    "import librosa\n",
    "import tsfel\n",
    "\n",
    "filename = '/home/paso/.julia/dev/Audio911.jl/test/common_voice_en_23616312.wav'\n",
    "x, sr = librosa.load(filename, sr=16000)\n",
    "\n",
    "print(x)"
   ]
  },
  {
   "cell_type": "markdown",
   "metadata": {},
   "source": [
    "### autocorr\n",
    "Calculates the first 1/e crossing of the autocorrelation function (ACF)."
   ]
  },
  {
   "cell_type": "code",
   "execution_count": 3,
   "metadata": {},
   "outputs": [
    {
     "data": {
      "text/plain": [
       "0.3877601852417011"
      ]
     },
     "execution_count": 3,
     "metadata": {},
     "output_type": "execute_result"
    }
   ],
   "source": [
    "\n",
    "\n",
    "tsfel.feature_extraction.features.auc(x, sr)"
   ]
  },
  {
   "cell_type": "markdown",
   "metadata": {},
   "source": [
    "## dfa\n",
    "Computes the Detrended Fluctuation Analysis (DFA) of the signal."
   ]
  },
  {
   "cell_type": "code",
   "execution_count": 4,
   "metadata": {},
   "outputs": [
    {
     "data": {
      "text/plain": [
       "0.09576710220814448"
      ]
     },
     "execution_count": 4,
     "metadata": {},
     "output_type": "execute_result"
    }
   ],
   "source": [
    "tsfel.feature_extraction.features.dfa(x)"
   ]
  },
  {
   "cell_type": "markdown",
   "metadata": {},
   "source": [
    "## fft_mean_coeff\n",
    "Computes the mean value of each spectrogram frequency."
   ]
  },
  {
   "cell_type": "code",
   "execution_count": 2,
   "metadata": {},
   "outputs": [
    {
     "data": {
      "text/plain": [
       "(1.0181347e-07,\n",
       " 1.00751066e-07,\n",
       " 2.4329896e-07,\n",
       " 1.234118e-06,\n",
       " 5.7072566e-07,\n",
       " 1.309114e-06,\n",
       " 3.3562976e-06,\n",
       " 1.5056799e-05,\n",
       " 3.0005442e-06,\n",
       " 5.608656e-07,\n",
       " 1.0632542e-06,\n",
       " 2.185005e-06,\n",
       " 4.179502e-06,\n",
       " 1.0792879e-05,\n",
       " 1.4887077e-05,\n",
       " 1.3393302e-05,\n",
       " 3.6539761e-06,\n",
       " 6.9047974e-06,\n",
       " 1.5715574e-05,\n",
       " 3.0096417e-05,\n",
       " 5.0862773e-06,\n",
       " 6.7446435e-06,\n",
       " 1.848959e-06,\n",
       " 1.3253092e-06,\n",
       " 2.8799132e-06,\n",
       " 5.073394e-06,\n",
       " 1.0052796e-05,\n",
       " 1.179567e-05,\n",
       " 2.0620848e-05,\n",
       " 5.72188e-06,\n",
       " 5.7603106e-06,\n",
       " 1.3304282e-05,\n",
       " 1.1211628e-05,\n",
       " 6.764426e-06,\n",
       " 1.0234399e-05,\n",
       " 1.3279875e-05,\n",
       " 4.715284e-06,\n",
       " 7.4513587e-06,\n",
       " 4.357088e-06,\n",
       " 6.036184e-06,\n",
       " 8.408119e-06,\n",
       " 1.7128537e-05,\n",
       " 1.4298002e-05,\n",
       " 6.5086087e-06,\n",
       " 3.0927838e-06,\n",
       " 2.9327246e-06,\n",
       " 9.143253e-07,\n",
       " 8.187226e-07,\n",
       " 8.042188e-07,\n",
       " 8.7250066e-07,\n",
       " 1.2285572e-06,\n",
       " 1.7276066e-06,\n",
       " 1.5147264e-06,\n",
       " 1.0794549e-06,\n",
       " 1.2962363e-06,\n",
       " 1.5568653e-06,\n",
       " 1.2307661e-06,\n",
       " 1.0170869e-06,\n",
       " 6.75746e-07,\n",
       " 4.41519e-07,\n",
       " 5.240438e-07,\n",
       " 1.8247032e-06,\n",
       " 1.7759406e-06,\n",
       " 1.6994628e-06,\n",
       " 1.2085787e-06,\n",
       " 1.0704214e-06,\n",
       " 1.0559035e-06,\n",
       " 1.3741923e-06,\n",
       " 2.1820415e-06,\n",
       " 2.370482e-06,\n",
       " 8.940122e-07,\n",
       " 7.9497806e-07,\n",
       " 7.267822e-07,\n",
       " 5.5218015e-07,\n",
       " 4.2344095e-07,\n",
       " 5.532345e-07,\n",
       " 7.329274e-07,\n",
       " 9.280355e-07,\n",
       " 1.1597015e-06,\n",
       " 6.951613e-07,\n",
       " 7.6786364e-07,\n",
       " 7.867916e-07,\n",
       " 1.2490748e-06,\n",
       " 1.4573666e-06,\n",
       " 2.293368e-06,\n",
       " 1.8076918e-06,\n",
       " 1.3945752e-06,\n",
       " 2.040196e-06,\n",
       " 6.8908645e-07,\n",
       " 8.256516e-07,\n",
       " 4.8640413e-07,\n",
       " 5.6127783e-07,\n",
       " 3.2142543e-07,\n",
       " 2.9335743e-07,\n",
       " 7.015173e-07,\n",
       " 8.579959e-07,\n",
       " 1.4211648e-06,\n",
       " 7.7141476e-07,\n",
       " 9.793583e-07,\n",
       " 6.158914e-07,\n",
       " 8.717522e-07,\n",
       " 7.401469e-07,\n",
       " 4.5982878e-07,\n",
       " 8.6011624e-07,\n",
       " 4.5215523e-07,\n",
       " 4.2433552e-07,\n",
       " 5.371563e-07,\n",
       " 6.534851e-07,\n",
       " 5.418666e-07,\n",
       " 1.1261847e-06,\n",
       " 3.8549356e-07,\n",
       " 6.019691e-07,\n",
       " 8.501486e-07,\n",
       " 1.9713268e-06,\n",
       " 2.5051554e-06,\n",
       " 9.709012e-07,\n",
       " 2.2631093e-06,\n",
       " 2.2564916e-06,\n",
       " 1.3984167e-06,\n",
       " 4.150929e-07,\n",
       " 7.5934645e-07,\n",
       " 2.5152303e-07,\n",
       " 1.8839496e-07,\n",
       " 3.176251e-07,\n",
       " 4.366875e-07,\n",
       " 1.9377457e-07,\n",
       " 2.2546998e-07,\n",
       " 3.0297846e-07,\n",
       " 3.227603e-07,\n",
       " 3.6024153e-07,\n",
       " 4.951784e-07,\n",
       " 4.009498e-07,\n",
       " 3.2123546e-07,\n",
       " 3.2735352e-07,\n",
       " 3.0980806e-07,\n",
       " 3.6817033e-07,\n",
       " 3.7396651e-07,\n",
       " 2.1727702e-07,\n",
       " 1.9952263e-07,\n",
       " 2.3513311e-07,\n",
       " 3.202431e-07,\n",
       " 1.8511801e-07,\n",
       " 2.78793e-07,\n",
       " 2.8751037e-07,\n",
       " 2.2974247e-07,\n",
       " 1.7842741e-07,\n",
       " 2.3140203e-07,\n",
       " 2.8013804e-07,\n",
       " 2.4967338e-07,\n",
       " 2.5269594e-07,\n",
       " 2.1194192e-07,\n",
       " 3.2461622e-07,\n",
       " 2.3924218e-07,\n",
       " 2.0777739e-07,\n",
       " 2.2236523e-07,\n",
       " 2.2773736e-07,\n",
       " 2.0798801e-07,\n",
       " 1.8098223e-07,\n",
       " 1.5697682e-07,\n",
       " 9.6871396e-08,\n",
       " 9.04501e-08,\n",
       " 1.2653675e-07,\n",
       " 9.633381e-08,\n",
       " 1.4966821e-07,\n",
       " 8.654401e-08,\n",
       " 1.8913514e-07,\n",
       " 2.1523572e-07,\n",
       " 3.0719156e-07,\n",
       " 1.3618192e-07,\n",
       " 1.2677816e-07,\n",
       " 1.1470821e-07,\n",
       " 9.555909e-08,\n",
       " 1.1378333e-07,\n",
       " 1.2633865e-07,\n",
       " 1.00403625e-07,\n",
       " 1.5544019e-07,\n",
       " 1.4781924e-07,\n",
       " 2.770719e-07,\n",
       " 1.5784568e-07,\n",
       " 3.5330353e-07,\n",
       " 2.698205e-07,\n",
       " 1.8130689e-07,\n",
       " 1.432921e-07,\n",
       " 1.8218802e-07,\n",
       " 2.904658e-07,\n",
       " 1.8903394e-07,\n",
       " 2.2215146e-07,\n",
       " 2.0837685e-07,\n",
       " 1.8719078e-07,\n",
       " 1.0215243e-07,\n",
       " 1.1649117e-07,\n",
       " 1.6055655e-07,\n",
       " 1.3860439e-07,\n",
       " 1.9778372e-07,\n",
       " 1.9438052e-07,\n",
       " 1.345307e-07,\n",
       " 1.4094495e-07,\n",
       " 1.4739473e-07,\n",
       " 2.72785e-07,\n",
       " 2.0224583e-07,\n",
       " 1.9966241e-07,\n",
       " 1.9895566e-07,\n",
       " 1.0553516e-07,\n",
       " 1.5589436e-07,\n",
       " 1.3067924e-07,\n",
       " 2.0413017e-07,\n",
       " 2.542694e-07,\n",
       " 1.6329015e-07,\n",
       " 1.959749e-07,\n",
       " 2.0208486e-07,\n",
       " 1.2386342e-07,\n",
       " 7.181022e-08,\n",
       " 6.607578e-08,\n",
       " 6.09032e-08,\n",
       " 4.947878e-08,\n",
       " 6.085426e-08,\n",
       " 3.098766e-08,\n",
       " 3.057535e-08,\n",
       " 2.099714e-08,\n",
       " 4.9763095e-08,\n",
       " 2.4507598e-08,\n",
       " 4.0666176e-08,\n",
       " 3.0188975e-08,\n",
       " 2.691314e-08,\n",
       " 4.1548823e-08,\n",
       " 1.3220429e-08,\n",
       " 1.9414344e-08,\n",
       " 1.8042563e-08,\n",
       " 3.7803932e-08,\n",
       " 1.9831404e-08,\n",
       " 2.4047766e-08,\n",
       " 2.3403873e-08,\n",
       " 2.8186083e-08,\n",
       " 2.5583207e-08,\n",
       " 2.1342398e-08,\n",
       " 2.421761e-08,\n",
       " 2.763638e-08,\n",
       " 8.985398e-09,\n",
       " 5.2600253e-09,\n",
       " 3.5289494e-09,\n",
       " 3.9658357e-09,\n",
       " 3.333547e-09,\n",
       " 2.394874e-09,\n",
       " 2.405676e-09,\n",
       " 3.3098186e-09,\n",
       " 1.6870123e-09,\n",
       " 6.867718e-10,\n",
       " 1.3049611e-10,\n",
       " 7.091725e-11,\n",
       " 1.8522144e-11,\n",
       " 7.0483432e-12,\n",
       " 2.3401788e-12,\n",
       " 8.83985e-13,\n",
       " 5.961343e-13,\n",
       " 5.382444e-13,\n",
       " 2.6320404e-13)"
      ]
     },
     "execution_count": 2,
     "metadata": {},
     "output_type": "execute_result"
    }
   ],
   "source": [
    "tsfel.feature_extraction.features.fft_mean_coeff(x, sr)"
   ]
  },
  {
   "cell_type": "markdown",
   "metadata": {},
   "source": [
    "## higuchi_fractal_dimension\n",
    "Computes the fractal dimension of a signal using Higuchi's method (HFD)."
   ]
  },
  {
   "cell_type": "code",
   "execution_count": 9,
   "metadata": {},
   "outputs": [
    {
     "data": {
      "text/plain": [
       "1.9479700298093423"
      ]
     },
     "execution_count": 9,
     "metadata": {},
     "output_type": "execute_result"
    }
   ],
   "source": [
    "tsfel.feature_extraction.features.higuchi_fractal_dimension(x)"
   ]
  },
  {
   "cell_type": "markdown",
   "metadata": {},
   "source": [
    "## hurst_exponent\n",
    "Computes the Hurst exponent of the signal through the Rescaled range (R/S) analysis."
   ]
  },
  {
   "cell_type": "code",
   "execution_count": 8,
   "metadata": {},
   "outputs": [
    {
     "data": {
      "text/plain": [
       "0.12266760851858466"
      ]
     },
     "execution_count": 8,
     "metadata": {},
     "output_type": "execute_result"
    }
   ],
   "source": [
    "tsfel.feature_extraction.features.hurst_exponent(x)"
   ]
  },
  {
   "cell_type": "markdown",
   "metadata": {},
   "source": [
    "## lempel_ziv\n",
    "Computes the Lempel-Ziv’s (LZ) complexity index, normalized by the signal’s length."
   ]
  },
  {
   "cell_type": "code",
   "execution_count": 7,
   "metadata": {},
   "outputs": [
    {
     "data": {
      "text/plain": [
       "0.061207695753169235"
      ]
     },
     "execution_count": 7,
     "metadata": {},
     "output_type": "execute_result"
    }
   ],
   "source": [
    "tsfel.feature_extraction.features.lempel_ziv(x)"
   ]
  },
  {
   "cell_type": "markdown",
   "metadata": {},
   "source": [
    "## lpcc\n",
    "Computes the linear prediction cepstral coefficients."
   ]
  },
  {
   "cell_type": "code",
   "execution_count": 2,
   "metadata": {},
   "outputs": [
    {
     "data": {
      "text/plain": [
       "(0.0011630670281451792,\n",
       " 1.355016944481395,\n",
       " 0.19796645228707785,\n",
       " 0.29494951600442665,\n",
       " 0.20659546966895004,\n",
       " 0.1697580486923238,\n",
       " 0.3037854499856823,\n",
       " 0.3037854499856823,\n",
       " 0.1697580486923238,\n",
       " 0.20659546966895004,\n",
       " 0.29494951600442665,\n",
       " 0.19796645228707785,\n",
       " 1.355016944481395)"
      ]
     },
     "execution_count": 2,
     "metadata": {},
     "output_type": "execute_result"
    }
   ],
   "source": [
    "tsfel.feature_extraction.features.lpcc(x, n_coeff=13)"
   ]
  },
  {
   "cell_type": "markdown",
   "metadata": {},
   "source": [
    "\n",
    "## maximum_fractal_length\n",
    "Computes the Maximum Fractal Length (MFL) of the signal, which is the average length at the smallest scale, measured from the logarithmic plot determining FD. The Higuchi’s method is used."
   ]
  },
  {
   "cell_type": "code",
   "execution_count": 2,
   "metadata": {},
   "outputs": [
    {
     "data": {
      "text/plain": [
       "3.8512823624878525"
      ]
     },
     "execution_count": 2,
     "metadata": {},
     "output_type": "execute_result"
    }
   ],
   "source": [
    "tsfel.feature_extraction.features.maximum_fractal_length(x)"
   ]
  },
  {
   "cell_type": "markdown",
   "metadata": {},
   "source": [
    "## mean_diff\n",
    "Computes mean of differences of the signal."
   ]
  },
  {
   "cell_type": "code",
   "execution_count": 3,
   "metadata": {},
   "outputs": [
    {
     "data": {
      "text/plain": [
       "3.7638347e-07"
      ]
     },
     "execution_count": 3,
     "metadata": {},
     "output_type": "execute_result"
    }
   ],
   "source": [
    "tsfel.feature_extraction.features.mean_diff(x)"
   ]
  },
  {
   "cell_type": "markdown",
   "metadata": {},
   "source": [
    "## mse\n",
    "Computes the Multiscale entropy (MSE) of the signal, that performs the entropy analysis over multiple time scales."
   ]
  },
  {
   "cell_type": "code",
   "execution_count": 4,
   "metadata": {},
   "outputs": [
    {
     "data": {
      "text/plain": [
       "0.0013106007403730696"
      ]
     },
     "execution_count": 4,
     "metadata": {},
     "output_type": "execute_result"
    }
   ],
   "source": [
    "tsfel.feature_extraction.features.mse(x, m=3, maxscale=None, tolerance=None)"
   ]
  },
  {
   "cell_type": "markdown",
   "metadata": {},
   "source": [
    "## petrosian_fractal_dimension\n",
    "Computes the Petrosian Fractal Dimension of a signal."
   ]
  },
  {
   "cell_type": "code",
   "execution_count": 5,
   "metadata": {},
   "outputs": [
    {
     "data": {
      "text/plain": [
       "1.0110831708187358"
      ]
     },
     "execution_count": 5,
     "metadata": {},
     "output_type": "execute_result"
    }
   ],
   "source": [
    "tsfel.feature_extraction.features.petrosian_fractal_dimension(x)"
   ]
  },
  {
   "cell_type": "markdown",
   "metadata": {},
   "source": [
    "## power_bandwidth\n",
    "Computes power spectrum density bandwidth of the signal.\n",
    "It corresponds to the width of the frequency band in which 95% of its power is located."
   ]
  },
  {
   "cell_type": "code",
   "execution_count": 6,
   "metadata": {},
   "outputs": [
    {
     "data": {
      "text/plain": [
       "3495.7969187820954"
      ]
     },
     "execution_count": 6,
     "metadata": {},
     "output_type": "execute_result"
    }
   ],
   "source": [
    "tsfel.feature_extraction.features.power_bandwidth(x, sr)"
   ]
  },
  {
   "cell_type": "markdown",
   "metadata": {},
   "source": [
    "## spectral_centroid\n",
    "Barycenter of the spectrum."
   ]
  },
  {
   "cell_type": "code",
   "execution_count": 10,
   "metadata": {},
   "outputs": [
    {
     "data": {
      "text/plain": [
       "2305.206981959398"
      ]
     },
     "execution_count": 10,
     "metadata": {},
     "output_type": "execute_result"
    }
   ],
   "source": [
    "tsfel.feature_extraction.features.spectral_centroid(x, sr)"
   ]
  },
  {
   "cell_type": "markdown",
   "metadata": {},
   "source": [
    "## spectral_variation\n",
    "Computes the amount of variation of the spectrum along time.\n",
    "Spectral variation is computed from the normalized cross-correlation between two consecutive amplitude spectra."
   ]
  },
  {
   "cell_type": "code",
   "execution_count": 11,
   "metadata": {},
   "outputs": [
    {
     "data": {
      "text/plain": [
       "0.11277242994641479"
      ]
     },
     "execution_count": 11,
     "metadata": {},
     "output_type": "execute_result"
    }
   ],
   "source": [
    "tsfel.feature_extraction.features.spectral_variation(x, sr)"
   ]
  }
 ],
 "metadata": {
  "kernelspec": {
   "display_name": "base",
   "language": "python",
   "name": "python3"
  },
  "language_info": {
   "codemirror_mode": {
    "name": "ipython",
    "version": 3
   },
   "file_extension": ".py",
   "mimetype": "text/x-python",
   "name": "python",
   "nbconvert_exporter": "python",
   "pygments_lexer": "ipython3",
   "version": "3.10.14"
  }
 },
 "nbformat": 4,
 "nbformat_minor": 2
}
